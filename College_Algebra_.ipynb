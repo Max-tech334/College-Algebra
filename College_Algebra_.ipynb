{
  "nbformat": 4,
  "nbformat_minor": 0,
  "metadata": {
    "colab": {
      "provenance": [],
      "authorship_tag": "ABX9TyMKclPilX6AoPkFTjToieaN",
      "include_colab_link": true
    },
    "kernelspec": {
      "name": "python3",
      "display_name": "Python 3"
    },
    "language_info": {
      "name": "python"
    },
    "widgets": {
      "application/vnd.jupyter.widget-state+json": {
        "00a14c944f4b46e9b6033aa430b2e0f4": {
          "model_module": "@jupyter-widgets/controls",
          "model_name": "VBoxModel",
          "model_module_version": "1.5.0",
          "state": {
            "_dom_classes": [
              "widget-interact"
            ],
            "_model_module": "@jupyter-widgets/controls",
            "_model_module_version": "1.5.0",
            "_model_name": "VBoxModel",
            "_view_count": null,
            "_view_module": "@jupyter-widgets/controls",
            "_view_module_version": "1.5.0",
            "_view_name": "VBoxView",
            "box_style": "",
            "children": [
              "IPY_MODEL_6fd2f3bd58dd4b70a6592fdb655d73a1",
              "IPY_MODEL_2a947bd340424c379104e5e7148ae8fd",
              "IPY_MODEL_31cdcdf00ae648a9a43759fb0297dd51",
              "IPY_MODEL_1fb88374bbb8497dbeed92135d19dbfe"
            ],
            "layout": "IPY_MODEL_824c38d9274b4cf99140d62a9c0f7101"
          }
        },
        "6fd2f3bd58dd4b70a6592fdb655d73a1": {
          "model_module": "@jupyter-widgets/controls",
          "model_name": "IntSliderModel",
          "model_module_version": "1.5.0",
          "state": {
            "_dom_classes": [],
            "_model_module": "@jupyter-widgets/controls",
            "_model_module_version": "1.5.0",
            "_model_name": "IntSliderModel",
            "_view_count": null,
            "_view_module": "@jupyter-widgets/controls",
            "_view_module_version": "1.5.0",
            "_view_name": "IntSliderView",
            "continuous_update": true,
            "description": "m",
            "description_tooltip": null,
            "disabled": false,
            "layout": "IPY_MODEL_779d70acd3eb42588d018b8ebb3e0fbf",
            "max": 9,
            "min": -9,
            "orientation": "horizontal",
            "readout": true,
            "readout_format": "d",
            "step": 1,
            "style": "IPY_MODEL_6f9a45a5e92a47a6bd4bd114346f243b",
            "value": 9
          }
        },
        "2a947bd340424c379104e5e7148ae8fd": {
          "model_module": "@jupyter-widgets/controls",
          "model_name": "IntSliderModel",
          "model_module_version": "1.5.0",
          "state": {
            "_dom_classes": [],
            "_model_module": "@jupyter-widgets/controls",
            "_model_module_version": "1.5.0",
            "_model_name": "IntSliderModel",
            "_view_count": null,
            "_view_module": "@jupyter-widgets/controls",
            "_view_module_version": "1.5.0",
            "_view_name": "IntSliderView",
            "continuous_update": true,
            "description": "b",
            "description_tooltip": null,
            "disabled": false,
            "layout": "IPY_MODEL_4d8e5415b2f142aba6231fae6906c391",
            "max": 9,
            "min": -9,
            "orientation": "horizontal",
            "readout": true,
            "readout_format": "d",
            "step": 1,
            "style": "IPY_MODEL_5e0ed4eaf6d94616accb5f1d1ab7ac43",
            "value": 9
          }
        },
        "31cdcdf00ae648a9a43759fb0297dd51": {
          "model_module": "@jupyter-widgets/controls",
          "model_name": "IntSliderModel",
          "model_module_version": "1.5.0",
          "state": {
            "_dom_classes": [],
            "_model_module": "@jupyter-widgets/controls",
            "_model_module_version": "1.5.0",
            "_model_name": "IntSliderModel",
            "_view_count": null,
            "_view_module": "@jupyter-widgets/controls",
            "_view_module_version": "1.5.0",
            "_view_name": "IntSliderView",
            "continuous_update": true,
            "description": "zoom",
            "description_tooltip": null,
            "disabled": false,
            "layout": "IPY_MODEL_853720e3737f4e93a493905601d37ed6",
            "max": 100,
            "min": 1,
            "orientation": "horizontal",
            "readout": true,
            "readout_format": "d",
            "step": 1,
            "style": "IPY_MODEL_bca2e518c19b47db81aadec73fd35483",
            "value": 5
          }
        },
        "1fb88374bbb8497dbeed92135d19dbfe": {
          "model_module": "@jupyter-widgets/output",
          "model_name": "OutputModel",
          "model_module_version": "1.0.0",
          "state": {
            "_dom_classes": [],
            "_model_module": "@jupyter-widgets/output",
            "_model_module_version": "1.0.0",
            "_model_name": "OutputModel",
            "_view_count": null,
            "_view_module": "@jupyter-widgets/output",
            "_view_module_version": "1.0.0",
            "_view_name": "OutputView",
            "layout": "IPY_MODEL_231750705aac4943ad06240efc21ceda",
            "msg_id": "",
            "outputs": [
              {
                "output_type": "display_data",
                "data": {
                  "text/plain": "<Figure size 640x480 with 1 Axes>",
                  "image/png": "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\n"
                },
                "metadata": {}
              }
            ]
          }
        },
        "824c38d9274b4cf99140d62a9c0f7101": {
          "model_module": "@jupyter-widgets/base",
          "model_name": "LayoutModel",
          "model_module_version": "1.2.0",
          "state": {
            "_model_module": "@jupyter-widgets/base",
            "_model_module_version": "1.2.0",
            "_model_name": "LayoutModel",
            "_view_count": null,
            "_view_module": "@jupyter-widgets/base",
            "_view_module_version": "1.2.0",
            "_view_name": "LayoutView",
            "align_content": null,
            "align_items": null,
            "align_self": null,
            "border": null,
            "bottom": null,
            "display": null,
            "flex": null,
            "flex_flow": null,
            "grid_area": null,
            "grid_auto_columns": null,
            "grid_auto_flow": null,
            "grid_auto_rows": null,
            "grid_column": null,
            "grid_gap": null,
            "grid_row": null,
            "grid_template_areas": null,
            "grid_template_columns": null,
            "grid_template_rows": null,
            "height": null,
            "justify_content": null,
            "justify_items": null,
            "left": null,
            "margin": null,
            "max_height": null,
            "max_width": null,
            "min_height": null,
            "min_width": null,
            "object_fit": null,
            "object_position": null,
            "order": null,
            "overflow": null,
            "overflow_x": null,
            "overflow_y": null,
            "padding": null,
            "right": null,
            "top": null,
            "visibility": null,
            "width": null
          }
        },
        "779d70acd3eb42588d018b8ebb3e0fbf": {
          "model_module": "@jupyter-widgets/base",
          "model_name": "LayoutModel",
          "model_module_version": "1.2.0",
          "state": {
            "_model_module": "@jupyter-widgets/base",
            "_model_module_version": "1.2.0",
            "_model_name": "LayoutModel",
            "_view_count": null,
            "_view_module": "@jupyter-widgets/base",
            "_view_module_version": "1.2.0",
            "_view_name": "LayoutView",
            "align_content": null,
            "align_items": null,
            "align_self": null,
            "border": null,
            "bottom": null,
            "display": null,
            "flex": null,
            "flex_flow": null,
            "grid_area": null,
            "grid_auto_columns": null,
            "grid_auto_flow": null,
            "grid_auto_rows": null,
            "grid_column": null,
            "grid_gap": null,
            "grid_row": null,
            "grid_template_areas": null,
            "grid_template_columns": null,
            "grid_template_rows": null,
            "height": null,
            "justify_content": null,
            "justify_items": null,
            "left": null,
            "margin": null,
            "max_height": null,
            "max_width": null,
            "min_height": null,
            "min_width": null,
            "object_fit": null,
            "object_position": null,
            "order": null,
            "overflow": null,
            "overflow_x": null,
            "overflow_y": null,
            "padding": null,
            "right": null,
            "top": null,
            "visibility": null,
            "width": null
          }
        },
        "6f9a45a5e92a47a6bd4bd114346f243b": {
          "model_module": "@jupyter-widgets/controls",
          "model_name": "SliderStyleModel",
          "model_module_version": "1.5.0",
          "state": {
            "_model_module": "@jupyter-widgets/controls",
            "_model_module_version": "1.5.0",
            "_model_name": "SliderStyleModel",
            "_view_count": null,
            "_view_module": "@jupyter-widgets/base",
            "_view_module_version": "1.2.0",
            "_view_name": "StyleView",
            "description_width": "",
            "handle_color": null
          }
        },
        "4d8e5415b2f142aba6231fae6906c391": {
          "model_module": "@jupyter-widgets/base",
          "model_name": "LayoutModel",
          "model_module_version": "1.2.0",
          "state": {
            "_model_module": "@jupyter-widgets/base",
            "_model_module_version": "1.2.0",
            "_model_name": "LayoutModel",
            "_view_count": null,
            "_view_module": "@jupyter-widgets/base",
            "_view_module_version": "1.2.0",
            "_view_name": "LayoutView",
            "align_content": null,
            "align_items": null,
            "align_self": null,
            "border": null,
            "bottom": null,
            "display": null,
            "flex": null,
            "flex_flow": null,
            "grid_area": null,
            "grid_auto_columns": null,
            "grid_auto_flow": null,
            "grid_auto_rows": null,
            "grid_column": null,
            "grid_gap": null,
            "grid_row": null,
            "grid_template_areas": null,
            "grid_template_columns": null,
            "grid_template_rows": null,
            "height": null,
            "justify_content": null,
            "justify_items": null,
            "left": null,
            "margin": null,
            "max_height": null,
            "max_width": null,
            "min_height": null,
            "min_width": null,
            "object_fit": null,
            "object_position": null,
            "order": null,
            "overflow": null,
            "overflow_x": null,
            "overflow_y": null,
            "padding": null,
            "right": null,
            "top": null,
            "visibility": null,
            "width": null
          }
        },
        "5e0ed4eaf6d94616accb5f1d1ab7ac43": {
          "model_module": "@jupyter-widgets/controls",
          "model_name": "SliderStyleModel",
          "model_module_version": "1.5.0",
          "state": {
            "_model_module": "@jupyter-widgets/controls",
            "_model_module_version": "1.5.0",
            "_model_name": "SliderStyleModel",
            "_view_count": null,
            "_view_module": "@jupyter-widgets/base",
            "_view_module_version": "1.2.0",
            "_view_name": "StyleView",
            "description_width": "",
            "handle_color": null
          }
        },
        "853720e3737f4e93a493905601d37ed6": {
          "model_module": "@jupyter-widgets/base",
          "model_name": "LayoutModel",
          "model_module_version": "1.2.0",
          "state": {
            "_model_module": "@jupyter-widgets/base",
            "_model_module_version": "1.2.0",
            "_model_name": "LayoutModel",
            "_view_count": null,
            "_view_module": "@jupyter-widgets/base",
            "_view_module_version": "1.2.0",
            "_view_name": "LayoutView",
            "align_content": null,
            "align_items": null,
            "align_self": null,
            "border": null,
            "bottom": null,
            "display": null,
            "flex": null,
            "flex_flow": null,
            "grid_area": null,
            "grid_auto_columns": null,
            "grid_auto_flow": null,
            "grid_auto_rows": null,
            "grid_column": null,
            "grid_gap": null,
            "grid_row": null,
            "grid_template_areas": null,
            "grid_template_columns": null,
            "grid_template_rows": null,
            "height": null,
            "justify_content": null,
            "justify_items": null,
            "left": null,
            "margin": null,
            "max_height": null,
            "max_width": null,
            "min_height": null,
            "min_width": null,
            "object_fit": null,
            "object_position": null,
            "order": null,
            "overflow": null,
            "overflow_x": null,
            "overflow_y": null,
            "padding": null,
            "right": null,
            "top": null,
            "visibility": null,
            "width": null
          }
        },
        "bca2e518c19b47db81aadec73fd35483": {
          "model_module": "@jupyter-widgets/controls",
          "model_name": "SliderStyleModel",
          "model_module_version": "1.5.0",
          "state": {
            "_model_module": "@jupyter-widgets/controls",
            "_model_module_version": "1.5.0",
            "_model_name": "SliderStyleModel",
            "_view_count": null,
            "_view_module": "@jupyter-widgets/base",
            "_view_module_version": "1.2.0",
            "_view_name": "StyleView",
            "description_width": "",
            "handle_color": null
          }
        },
        "231750705aac4943ad06240efc21ceda": {
          "model_module": "@jupyter-widgets/base",
          "model_name": "LayoutModel",
          "model_module_version": "1.2.0",
          "state": {
            "_model_module": "@jupyter-widgets/base",
            "_model_module_version": "1.2.0",
            "_model_name": "LayoutModel",
            "_view_count": null,
            "_view_module": "@jupyter-widgets/base",
            "_view_module_version": "1.2.0",
            "_view_name": "LayoutView",
            "align_content": null,
            "align_items": null,
            "align_self": null,
            "border": null,
            "bottom": null,
            "display": null,
            "flex": null,
            "flex_flow": null,
            "grid_area": null,
            "grid_auto_columns": null,
            "grid_auto_flow": null,
            "grid_auto_rows": null,
            "grid_column": null,
            "grid_gap": null,
            "grid_row": null,
            "grid_template_areas": null,
            "grid_template_columns": null,
            "grid_template_rows": null,
            "height": null,
            "justify_content": null,
            "justify_items": null,
            "left": null,
            "margin": null,
            "max_height": null,
            "max_width": null,
            "min_height": null,
            "min_width": null,
            "object_fit": null,
            "object_position": null,
            "order": null,
            "overflow": null,
            "overflow_x": null,
            "overflow_y": null,
            "padding": null,
            "right": null,
            "top": null,
            "visibility": null,
            "width": null
          }
        }
      }
    }
  },
  "cells": [
    {
      "cell_type": "markdown",
      "metadata": {
        "id": "view-in-github",
        "colab_type": "text"
      },
      "source": [
        "<a href=\"https://colab.research.google.com/github/Max-tech334/College-Algebra/blob/main/College_Algebra_.ipynb\" target=\"_parent\"><img src=\"https://colab.research.google.com/assets/colab-badge.svg\" alt=\"Open In Colab\"/></a>"
      ]
    },
    {
      "cell_type": "code",
      "execution_count": null,
      "metadata": {
        "colab": {
          "base_uri": "https://localhost:8080/"
        },
        "id": "k4p8R2csOrc_",
        "outputId": "de993b5f-762d-478a-9cef-2d9c9ecb24bd"
      },
      "outputs": [
        {
          "output_type": "stream",
          "name": "stdout",
          "text": [
            "Max\n"
          ]
        }
      ],
      "source": [
        "print(\"Max\")"
      ]
    },
    {
      "cell_type": "code",
      "source": [],
      "metadata": {
        "id": "MKAemmusO5RT"
      },
      "execution_count": null,
      "outputs": []
    },
    {
      "cell_type": "markdown",
      "source": [
        "#PROPOTIONAL"
      ],
      "metadata": {
        "id": "A8q_nI7SVBEy"
      }
    },
    {
      "cell_type": "code",
      "source": [
        "# m1/km1 = m2/km2\n",
        "\n",
        "m1 = 1\n",
        "km1 = 1.6\n",
        "m2 = 60\n",
        "km2 = 0\n",
        "\n",
        "if m2==0:\n",
        "  answer = km2*m1/km1\n",
        "  print(\"m2 = \", answer)\n",
        "\n",
        "if km2==0:\n",
        "  answer = km1*m2/m1\n",
        "  print(\"km2 = \", answer)\n",
        "\n"
      ],
      "metadata": {
        "colab": {
          "base_uri": "https://localhost:8080/"
        },
        "id": "TjYYy8d8VUdS",
        "outputId": "bd18fc23-e5d4-421a-820d-a1c6d0b0d3af"
      },
      "execution_count": null,
      "outputs": [
        {
          "output_type": "stream",
          "name": "stdout",
          "text": [
            "km2 =  96.0\n"
          ]
        }
      ]
    },
    {
      "cell_type": "code",
      "source": [],
      "metadata": {
        "id": "o8OQAnrGVlwj"
      },
      "execution_count": null,
      "outputs": []
    },
    {
      "cell_type": "markdown",
      "source": [
        "\n",
        "\n",
        "\n",
        "\n",
        "# Solving for X\n"
      ],
      "metadata": {
        "id": "YjmPIiK9Bb2O"
      }
    },
    {
      "cell_type": "code",
      "source": [
        "import sympy\n",
        "from sympy import symbols\n",
        "from sympy.solvers import solve\n",
        "\n",
        "x = symbols('x')\n",
        "\n",
        "#Equation\n",
        "eq = 2*x + 1\n",
        "\n",
        "print(\"x = \", solve(eq,x))"
      ],
      "metadata": {
        "colab": {
          "base_uri": "https://localhost:8080/"
        },
        "id": "IalwLNECBmFW",
        "outputId": "a0d7d3d8-a7da-4f10-d889-1e4faf63b08d"
      },
      "execution_count": null,
      "outputs": [
        {
          "output_type": "stream",
          "name": "stdout",
          "text": [
            "x =  [-1/2]\n"
          ]
        }
      ]
    },
    {
      "cell_type": "markdown",
      "source": [
        "Prompting a user to enter an equation"
      ],
      "metadata": {
        "id": "Q0c-JycEGSMO"
      }
    },
    {
      "cell_type": "code",
      "source": [
        "import sympy\n",
        "from sympy import symbols\n",
        "from sympy.solvers import solve\n",
        "\n",
        "x = symbols('x')\n",
        "eq = input(\"Enter the equation: 0 = \")\n",
        "\n",
        "print(\"x = \", solve(eq,x))\n"
      ],
      "metadata": {
        "colab": {
          "base_uri": "https://localhost:8080/"
        },
        "id": "3HyQOEAGENod",
        "outputId": "fd3b2b48-8e4e-4975-a6b5-46e63fbfb866"
      },
      "execution_count": null,
      "outputs": [
        {
          "output_type": "stream",
          "name": "stdout",
          "text": [
            "Enter the equation: 0 = 4*x + x**2 +8\n",
            "x =  [-2 - 2*I, -2 + 2*I]\n"
          ]
        }
      ]
    },
    {
      "cell_type": "markdown",
      "source": [
        "Multiple answers"
      ],
      "metadata": {
        "id": "JLpZXTaN5l7S"
      }
    },
    {
      "cell_type": "code",
      "source": [
        "import sympy\n",
        "from sympy import symbols\n",
        "from sympy.solvers import solve\n",
        "\n",
        "x = symbols('x')\n",
        "\n",
        "#Manual input\n",
        "#eq = 2*x - 4\n",
        "\n",
        "#input the equation\n",
        "eq = input('Enter the Equation: ')\n",
        "\n",
        "solution = solve(eq,x)\n",
        "for s in solution:\n",
        "  print(\"x = \",s)"
      ],
      "metadata": {
        "colab": {
          "base_uri": "https://localhost:8080/"
        },
        "id": "SMbjDV4X5Gro",
        "outputId": "fe7d7145-b884-46d9-efe9-8bf2b29f7ad6"
      },
      "execution_count": null,
      "outputs": [
        {
          "output_type": "stream",
          "name": "stdout",
          "text": [
            "Enter the Equation: (x-1)*(x+2)*(x-3)\n",
            "x =  -2\n",
            "x =  1\n",
            "x =  3\n"
          ]
        }
      ]
    },
    {
      "cell_type": "markdown",
      "source": [
        "Solving other ways\n"
      ],
      "metadata": {
        "id": "U1iXKDID7pzA"
      }
    },
    {
      "cell_type": "code",
      "source": [
        "from sympy import *\n",
        "\n",
        "var('x y')\n",
        "\n",
        "#First equation set equal to zero, ready to solve\n",
        "first = 2*x + y\n",
        "\n",
        "#Sympy syntax for equation equal to zero, ready to factor\n",
        "eq1 = Eq(first,y)\n",
        "\n",
        "# Sympy solve for x\n",
        "sol = solve(eq1,x)\n",
        "\n",
        "#Show factored results\n",
        "print(\"x = \", sol[0])\n"
      ],
      "metadata": {
        "colab": {
          "base_uri": "https://localhost:8080/"
        },
        "id": "nF09po917JWe",
        "outputId": "15e5ef3e-7d4a-48e4-e1d4-bdaa74dbef85"
      },
      "execution_count": null,
      "outputs": [
        {
          "output_type": "stream",
          "name": "stdout",
          "text": [
            "x =  0\n"
          ]
        }
      ]
    },
    {
      "cell_type": "markdown",
      "source": [
        "Factoring"
      ],
      "metadata": {
        "id": "BuCLmvTQ-eJz"
      }
    },
    {
      "cell_type": "code",
      "source": [
        "import sympy\n",
        "from sympy import symbols\n",
        "\n",
        "var('x y')\n",
        "\n",
        "\n",
        "# Equation set equal to zero, ready to solve\n",
        "#eq = x**2 - 4\n",
        "eq = x**3 - 2*x**2 - 5*x + 6\n",
        "\n",
        "sympy.factor(eq)"
      ],
      "metadata": {
        "colab": {
          "base_uri": "https://localhost:8080/",
          "height": 39
        },
        "id": "-ta68JqO95Ll",
        "outputId": "c57b0c3e-9734-4fdd-dd34-8d82668233fd"
      },
      "execution_count": null,
      "outputs": [
        {
          "output_type": "execute_result",
          "data": {
            "text/plain": [
              "(x - 3)*(x - 1)*(x + 2)"
            ],
            "text/latex": "$\\displaystyle \\left(x - 3\\right) \\left(x - 1\\right) \\left(x + 2\\right)$"
          },
          "metadata": {},
          "execution_count": 15
        }
      ]
    },
    {
      "cell_type": "markdown",
      "source": [
        "Explaining how each function works"
      ],
      "metadata": {
        "id": "4t6RHC73GiVw"
      }
    },
    {
      "cell_type": "code",
      "source": [
        "# converts string input (even fractions) to float\n",
        "def string_frac(in_string):\n",
        "    if \"/\" in in_string:\n",
        "        nd = in_string.split(\"/\")\n",
        "        n = float(nd[0])\n",
        "        d = float(nd[1])\n",
        "        ans = n/d\n",
        "        return ans\n",
        "    else:\n",
        "        ans = float(in_string)\n",
        "        return ans"
      ],
      "metadata": {
        "id": "2Ob_In6CFto9"
      },
      "execution_count": null,
      "outputs": []
    },
    {
      "cell_type": "code",
      "source": [
        "# Simplest one-step addition\n",
        "def one_step_add():\n",
        "    import random\n",
        "    # Display problem\n",
        "    a = random.randint(-4,10)\n",
        "    b = random.randint(2,24)\n",
        "    print(\"x + \", a, \" = \", b)\n",
        "    ans = float(input(\"x = \"))\n",
        "    answer = b-a\n",
        "    # Test input\n",
        "    if ans==answer:\n",
        "        print(\"Correct! \\n\")\n",
        "    else:\n",
        "        print(\"Try again\")\n",
        "        print(\"The correct answer is \", answer, \"\\n\")"
      ],
      "metadata": {
        "id": "zklxwMjNKHLx"
      },
      "execution_count": null,
      "outputs": []
    },
    {
      "cell_type": "code",
      "source": [
        "# One-step additon with negaive numbers\n",
        "def one_step_subtract():\n",
        "    import random\n",
        "    a = random.randint(-19,-1)\n",
        "    b = random.randint(2,24)\n",
        "    print(a, \" + x = \", b)\n",
        "    ans = float(input(\"x = \"))\n",
        "    # test\n",
        "    answer = b-a\n",
        "    if ans==answer:\n",
        "        print(\"Correct! \\n\")\n",
        "    else:\n",
        "        print(\"Try again\")\n",
        "        print(\"The correct answer is \", answer, \"\\n\")"
      ],
      "metadata": {
        "id": "Rgs4BDc6Ndb8"
      },
      "execution_count": null,
      "outputs": []
    },
    {
      "cell_type": "code",
      "source": [
        "# One-step multiply\n",
        "def one_step_mult():\n",
        "    # Uses string_frac(<input string>)\n",
        "    import random\n",
        "    a = random.randint(1,11)\n",
        "    b = random.randint(2,24)\n",
        "    print(a, \"x = \", b)\n",
        "    print(\"Round your answer to two decimal places.\")\n",
        "    ans_in = (input(\"x = \"))\n",
        "    answer = round(b/a,2)\n",
        "    # test\n",
        "    if string_frac(ans_in)==answer:\n",
        "        print(\"Correct! \\n\")\n",
        "    else:\n",
        "        print(\"Try again\")\n",
        "        print(\"The correct answer is \", answer, \"\\n\")"
      ],
      "metadata": {
        "id": "ov56WceqNiGf"
      },
      "execution_count": null,
      "outputs": []
    },
    {
      "cell_type": "code",
      "source": [
        "# One-step divide\n",
        "def one_step_div():\n",
        "    import random\n",
        "    a = random.randint(1,11)\n",
        "    b = random.randint(2,24)\n",
        "    print(\"x/\", a, \" = \", b)\n",
        "    ans = float(input(\"x = \"))\n",
        "    answer = b*a\n",
        "    # test\n",
        "    if ans==answer:\n",
        "        print(\"Correct! \\n\")\n",
        "    else:\n",
        "        print(\"Try again\")\n",
        "        print(\"The correct answer is \", answer, \"\\n\")"
      ],
      "metadata": {
        "id": "XPw2jGyDNlIg"
      },
      "execution_count": null,
      "outputs": []
    },
    {
      "cell_type": "code",
      "source": [
        "# Two-step problems\n",
        "def two_step():\n",
        "    import random\n",
        "    # Uses string_frac()\n",
        "    a = random.randint(1,11)\n",
        "    b = random.randint(-7,12)\n",
        "    c = random.randint(2,36)\n",
        "    print(a, \"x + \", b, \" = \", c)\n",
        "    print(\"Round answer to two decimal places\")\n",
        "    ans_in = input(\"x = \")\n",
        "    answer = (c-b)/a\n",
        "    # test\n",
        "    if round(string_frac(ans_in),2)==round(answer,2):\n",
        "        print(\"Correct! \\n\")\n",
        "    else:\n",
        "        print(\"Try again\")\n",
        "        print(\"The correct answer is \", answer, \"\\n\")"
      ],
      "metadata": {
        "id": "-S-I_WCNNslb"
      },
      "execution_count": null,
      "outputs": []
    },
    {
      "cell_type": "code",
      "source": [
        "# test loop\n",
        "for a in range(2):\n",
        "    one_step_add()\n",
        "    one_step_subtract()\n",
        "    one_step_mult()\n",
        "    one_step_div()\n",
        "    two_step()\n",
        "    print(\" \")\n",
        "\n",
        "two_step()\n",
        "two_step()"
      ],
      "metadata": {
        "colab": {
          "base_uri": "https://localhost:8080/"
        },
        "id": "CcKY3o4gNvZB",
        "outputId": "e31af568-7a57-4dc9-d06d-305b2bddbf15"
      },
      "execution_count": null,
      "outputs": [
        {
          "output_type": "stream",
          "name": "stdout",
          "text": [
            "x +  6  =  5\n",
            "x = -1\n",
            "Correct! \n",
            "\n",
            "-16  + x =  5\n",
            "x = 21\n",
            "Correct! \n",
            "\n",
            "8 x =  2\n",
            "Round your answer to two decimal places.\n",
            "x = 0.16\n",
            "Try again\n",
            "The correct answer is  0.25 \n",
            "\n",
            "x/ 11  =  13\n",
            "x = 143\n",
            "Correct! \n",
            "\n",
            "9 x +  -6  =  20\n",
            "Round answer to two decimal places\n",
            "x = 2.97\n",
            "Try again\n",
            "The correct answer is  2.888888888888889 \n",
            "\n",
            " \n",
            "x +  -3  =  15\n",
            "x = 18\n",
            "Correct! \n",
            "\n",
            "-8  + x =  17\n",
            "x = 25\n",
            "Correct! \n",
            "\n",
            "6 x =  15\n",
            "Round your answer to two decimal places.\n",
            "x = 1.67\n",
            "Try again\n",
            "The correct answer is  2.5 \n",
            "\n",
            "x/ 1  =  16\n",
            "x = 16\n",
            "Correct! \n",
            "\n",
            "8 x +  9  =  16\n",
            "Round answer to two decimal places\n",
            "x = 3.325\n",
            "Try again\n",
            "The correct answer is  0.875 \n",
            "\n",
            " \n",
            "3 x +  1  =  23\n",
            "Round answer to two decimal places\n",
            "x = 7.33\n",
            "Correct! \n",
            "\n",
            "11 x +  6  =  19\n",
            "Round answer to two decimal places\n",
            "x = 1.18\n",
            "Correct! \n",
            "\n"
          ]
        }
      ]
    },
    {
      "cell_type": "markdown",
      "source": [],
      "metadata": {
        "id": "1Oih2IrbdO41"
      }
    },
    {
      "cell_type": "markdown",
      "source": [
        "# Fractions and Decimals\n"
      ],
      "metadata": {
        "id": "48t02MHCdRzI"
      }
    },
    {
      "cell_type": "markdown",
      "source": [
        "Positive and Negative exponents"
      ],
      "metadata": {
        "id": "HIDQrTeKdclY"
      }
    },
    {
      "cell_type": "code",
      "source": [
        "print(10**1)\n",
        "print(10**2)\n",
        "print(10**3)\n",
        "\n",
        "print(10**0)\n",
        "\n",
        "print(10**-1)\n",
        "print(10**-2)\n",
        "print(10**-3)"
      ],
      "metadata": {
        "colab": {
          "base_uri": "https://localhost:8080/"
        },
        "id": "rGgJpprndhj6",
        "outputId": "83a2a2f2-8e23-4351-dda9-5664489aedcf"
      },
      "execution_count": null,
      "outputs": [
        {
          "output_type": "stream",
          "name": "stdout",
          "text": [
            "10\n",
            "100\n",
            "1000\n",
            "1\n",
            "0.1\n",
            "0.01\n",
            "0.001\n"
          ]
        }
      ]
    },
    {
      "cell_type": "code",
      "source": [
        "text = input(\"Enter a number: \")\n",
        "print(text)\n",
        "\n",
        "print(len(text))"
      ],
      "metadata": {
        "colab": {
          "base_uri": "https://localhost:8080/"
        },
        "id": "oOpyJz-Cd5Tu",
        "outputId": "559d872b-9415-4536-8292-939011dccb33"
      },
      "execution_count": null,
      "outputs": [
        {
          "output_type": "stream",
          "name": "stdout",
          "text": [
            "Enter a number: 1717\n",
            "1717\n",
            "4\n"
          ]
        }
      ]
    },
    {
      "cell_type": "markdown",
      "source": [
        "Cast input as float or int variable"
      ],
      "metadata": {
        "id": "TQcSSCp3egfS"
      }
    },
    {
      "cell_type": "code",
      "source": [
        "text = input(\"Enter a number: \")\n",
        "num = float(text)\n",
        "print(num + len(text))"
      ],
      "metadata": {
        "colab": {
          "base_uri": "https://localhost:8080/"
        },
        "id": "VHZTsAateQOg",
        "outputId": "ce10a209-88b3-46e8-fc61-eca426140ad3"
      },
      "execution_count": null,
      "outputs": [
        {
          "output_type": "stream",
          "name": "stdout",
          "text": [
            "Enter a number: .672\n",
            "4.672\n"
          ]
        }
      ]
    },
    {
      "cell_type": "markdown",
      "source": [
        "Now put it all together"
      ],
      "metadata": {
        "id": "Qs_OlOJMe8Rf"
      }
    },
    {
      "cell_type": "code",
      "source": [
        "# Get string input that will include a decimal point\n",
        "digits = input(\"Enter a decimal number to convert: \")\n",
        "\n",
        "#Get the number of decimal places\n",
        "exponent = len(digits) - 1\n",
        "\n",
        "#convert the input into a float\n",
        "n = float(digits)\n",
        "\n",
        "# Use the exponent to get the numerator\n",
        "numerator = int(n * 10**exponent)\n",
        "\n",
        "#Use the exponent to get the denominator\n",
        "denominator = 10**exponent\n",
        "\n",
        "#percent is the first two decimal places\n",
        "percent = n * 100\n",
        "\n",
        "#Output\n",
        "print(\"The decimal is \", n)\n",
        "print(\"The fraction is \", numerator, \"/\", denominator)\n",
        "print(\"The percent is \", percent, \"%\")\n",
        "\n"
      ],
      "metadata": {
        "colab": {
          "base_uri": "https://localhost:8080/"
        },
        "id": "ac6g8PIde77m",
        "outputId": "372032f0-9f0c-4c6f-eda8-9a20aefe3879"
      },
      "execution_count": null,
      "outputs": [
        {
          "output_type": "stream",
          "name": "stdout",
          "text": [
            "Enter a decimal number to convert: .125\n",
            "The decimal is  0.125\n",
            "The fraction is  125 / 1000\n",
            "The percent is  12.5 %\n"
          ]
        }
      ]
    },
    {
      "cell_type": "markdown",
      "source": [
        "# Functions"
      ],
      "metadata": {
        "id": "ooFNOzlZo1MZ"
      }
    },
    {
      "cell_type": "markdown",
      "source": [
        "Function and a table of (x,y) values"
      ],
      "metadata": {
        "id": "t9zklVU-qyx4"
      }
    },
    {
      "cell_type": "code",
      "source": [
        "x = 5\n",
        "y = 4*x + 3 # The function\n",
        "\n",
        "print(x,\", \", y)\n",
        "\n",
        "print(\"x \\t y\")\n",
        "\n",
        "for x in range(11):\n",
        "  y = 4*x + 3 #The function\n",
        "  print(x, \"\\t\", y)"
      ],
      "metadata": {
        "colab": {
          "base_uri": "https://localhost:8080/"
        },
        "id": "47Uh4tBLezEP",
        "outputId": "6a9fd271-0908-4241-969d-45e8b6f0097d"
      },
      "execution_count": null,
      "outputs": [
        {
          "output_type": "stream",
          "name": "stdout",
          "text": [
            "5 ,  23\n",
            "x \t y\n",
            "0 \t 3\n",
            "1 \t 7\n",
            "2 \t 11\n",
            "3 \t 15\n",
            "4 \t 19\n",
            "5 \t 23\n",
            "6 \t 27\n",
            "7 \t 31\n",
            "8 \t 35\n",
            "9 \t 39\n",
            "10 \t 43\n"
          ]
        }
      ]
    },
    {
      "cell_type": "markdown",
      "source": [
        "Defining a Python function"
      ],
      "metadata": {
        "id": "1NNIfRDfsOmU"
      }
    },
    {
      "cell_type": "code",
      "source": [
        "def f(x):\n",
        "  y = 4*x + 3\n",
        "  return y\n",
        "\n",
        "print(5, \",\", f(5))\n",
        "for x in range(11):\n",
        "\n",
        "  print(x, \"\\t\", f(x))\n",
        "\n",
        "\n"
      ],
      "metadata": {
        "colab": {
          "base_uri": "https://localhost:8080/"
        },
        "id": "d20pEZ3Krr7Z",
        "outputId": "b2152b74-2c24-47fb-f9a5-194db25daf2b"
      },
      "execution_count": null,
      "outputs": [
        {
          "output_type": "stream",
          "name": "stdout",
          "text": [
            "5 , 23\n",
            "0 \t 3\n",
            "1 \t 7\n",
            "2 \t 11\n",
            "3 \t 15\n",
            "4 \t 19\n",
            "5 \t 23\n",
            "6 \t 27\n",
            "7 \t 31\n",
            "8 \t 35\n",
            "9 \t 39\n",
            "10 \t 43\n"
          ]
        }
      ]
    },
    {
      "cell_type": "markdown",
      "source": [
        "# Graphing functions"
      ],
      "metadata": {
        "id": "IwUVLSW3tgfM"
      }
    },
    {
      "cell_type": "markdown",
      "source": [
        "Basic blank graph"
      ],
      "metadata": {
        "id": "w7PWff77uX-s"
      }
    },
    {
      "cell_type": "code",
      "source": [
        "import matplotlib.pyplot as plt\n",
        "\n",
        "fig,  ax = plt.subplots()\n",
        "plt.show()"
      ],
      "metadata": {
        "colab": {
          "base_uri": "https://localhost:8080/",
          "height": 435
        },
        "id": "OQu1g_Zasz0d",
        "outputId": "1f809a92-9090-4593-e68a-d57e5c1d0310"
      },
      "execution_count": null,
      "outputs": [
        {
          "output_type": "display_data",
          "data": {
            "text/plain": [
              "<Figure size 640x480 with 1 Axes>"
            ],
            "image/png": "[encoded data removed]"
          },
          "metadata": {}
        }
      ]
    },
    {
      "cell_type": "markdown",
      "source": [
        "Define dimentions of a graph"
      ],
      "metadata": {
        "id": "3pXPI9lf7OsB"
      }
    },
    {
      "cell_type": "code",
      "source": [
        "import matplotlib.pyplot as plt\n",
        "\n",
        "fig,  ax = plt.subplots()\n",
        "\n",
        "plt.axis([-10,10,-10,10])\n",
        "plt.show()"
      ],
      "metadata": {
        "colab": {
          "base_uri": "https://localhost:8080/",
          "height": 435
        },
        "id": "UhdWLJg1up8I",
        "outputId": "c919f35e-e56c-4c0f-97e2-457110069a55"
      },
      "execution_count": null,
      "outputs": [
        {
          "output_type": "display_data",
          "data": {
            "text/plain": [
              "<Figure size 640x480 with 1 Axes>"
            ],
            "image/png": "[encoded data removed]"
          },
          "metadata": {}
        }
      ]
    },
    {
      "cell_type": "markdown",
      "source": [
        "Better way to set dimensions"
      ],
      "metadata": {
        "id": "SnWgkNgn7wxr"
      }
    },
    {
      "cell_type": "code",
      "source": [
        "import matplotlib.pyplot as plt\n",
        "\n",
        "xmin  = -10\n",
        "xmax = 10\n",
        "ymin = -10\n",
        "ymax = 20\n",
        "\n",
        "fig,  ax = plt.subplots()\n",
        "plt.axis([xmin,xmax,ymin,ymax])\n",
        "plt.show()\n",
        "\n",
        "\n",
        "\n"
      ],
      "metadata": {
        "colab": {
          "base_uri": "https://localhost:8080/",
          "height": 435
        },
        "id": "dl3SIv3i7stq",
        "outputId": "f37ea329-1308-4447-9034-b881e8f7f7a8"
      },
      "execution_count": null,
      "outputs": [
        {
          "output_type": "display_data",
          "data": {
            "text/plain": [
              "<Figure size 640x480 with 1 Axes>"
            ],
            "image/png": "[encoded data removed]"
          },
          "metadata": {}
        }
      ]
    },
    {
      "cell_type": "markdown",
      "source": [
        "Define axis lines"
      ],
      "metadata": {
        "id": "4BrGJwWG8cBP"
      }
    },
    {
      "cell_type": "code",
      "source": [
        "import matplotlib.pyplot as plt\n",
        "\n",
        "xmin  = -10\n",
        "xmax = 10\n",
        "ymin = -10\n",
        "ymax = 20\n",
        "\n",
        "fig,  ax = plt.subplots()\n",
        "plt.axis([xmin,xmax,ymin,ymax])\n",
        "plt.plot([xmin,xmax], [0,0], 'b')\n",
        "plt.plot( [0,0],[ymin,ymax], 'b')\n",
        "plt.show()\n",
        "\n",
        "\n"
      ],
      "metadata": {
        "colab": {
          "base_uri": "https://localhost:8080/",
          "height": 435
        },
        "id": "WTNcdibc8TTK",
        "outputId": "b1cd1fc0-616f-4044-a4b4-a8ad9917b176"
      },
      "execution_count": null,
      "outputs": [
        {
          "output_type": "display_data",
          "data": {
            "text/plain": [
              "<Figure size 640x480 with 1 Axes>"
            ],
            "image/png": "[encoded data removed]"
          },
          "metadata": {}
        }
      ]
    },
    {
      "cell_type": "markdown",
      "source": [
        "Plot one point"
      ],
      "metadata": {
        "id": "thWSPrpz-Lqx"
      }
    },
    {
      "cell_type": "code",
      "source": [
        "\n",
        "import matplotlib.pyplot as plt\n",
        "\n",
        "xmin  = -10\n",
        "xmax = 10\n",
        "ymin = -10\n",
        "ymax = 20\n",
        "\n",
        "fig,  ax = plt.subplots()\n",
        "plt.axis([xmin,xmax,ymin,ymax])\n",
        "plt.plot([xmin,xmax], [0,0], 'b')\n",
        "plt.plot( [0,0],[ymin,ymax], 'b')\n",
        "\n",
        "plt.plot([5],[4], 'ro')\n",
        "plt.show()"
      ],
      "metadata": {
        "colab": {
          "base_uri": "https://localhost:8080/",
          "height": 435
        },
        "id": "lHpg4uz58i3E",
        "outputId": "1b8636bc-3d98-41c8-855b-e2f23c857df2"
      },
      "execution_count": null,
      "outputs": [
        {
          "output_type": "display_data",
          "data": {
            "text/plain": [
              "<Figure size 640x480 with 1 Axes>"
            ],
            "image/png": "[encoded data removed]"
          },
          "metadata": {}
        }
      ]
    },
    {
      "cell_type": "markdown",
      "source": [
        "Plotting multiple values"
      ],
      "metadata": {
        "id": "LOI8VhPN-uZs"
      }
    },
    {
      "cell_type": "code",
      "source": [
        "import matplotlib.pyplot as plt\n",
        "\n",
        "xmin  = -10\n",
        "xmax = 10\n",
        "ymin = -10\n",
        "ymax = 20\n",
        "\n",
        "fig,  ax = plt.subplots()\n",
        "plt.axis([xmin,xmax,ymin,ymax])\n",
        "plt.plot([xmin,xmax], [0,0], 'b')\n",
        "plt.plot( [0,0],[ymin,ymax], 'b')\n",
        "\n",
        "for x in range(10):\n",
        "  y = 0.5*x + 1\n",
        "  plt.plot([x],[y], 'ro')\n",
        "\n",
        "plt.show()"
      ],
      "metadata": {
        "colab": {
          "base_uri": "https://localhost:8080/",
          "height": 435
        },
        "id": "bbpQhi0U-bSV",
        "outputId": "364d69e5-8229-49a7-e5eb-f3cafa346de1"
      },
      "execution_count": null,
      "outputs": [
        {
          "output_type": "display_data",
          "data": {
            "text/plain": [
              "<Figure size 640x480 with 1 Axes>"
            ],
            "image/png": "[encoded data removed]"
          },
          "metadata": {}
        }
      ]
    },
    {
      "cell_type": "markdown",
      "source": [],
      "metadata": {
        "id": "YSyAQexP_ug-"
      }
    },
    {
      "cell_type": "code",
      "source": [
        "import matplotlib.pyplot as plt\n",
        "\n",
        "xmin  = -10\n",
        "xmax = 10\n",
        "ymin = -10\n",
        "ymax = 20\n",
        "\n",
        "fig,  ax = plt.subplots()\n",
        "plt.axis([xmin,xmax,ymin,ymax])\n",
        "plt.plot([xmin,xmax], [0,0], 'b')\n",
        "plt.plot( [0,0],[ymin,ymax], 'b')\n",
        "\n",
        "print(\"x \\t y\")\n",
        "for x in range(xmin, xmax + 1):\n",
        "  y = 0.5*x + 1\n",
        "  plt.plot([x],[y], 'ro')\n",
        "  print(x, \"\\t\",y)\n",
        "\n",
        "plt.show()"
      ],
      "metadata": {
        "colab": {
          "base_uri": "https://localhost:8080/",
          "height": 817
        },
        "id": "CrhbTiy4_HWu",
        "outputId": "c07ed0ac-cccf-42be-9ec5-13432c7385aa"
      },
      "execution_count": null,
      "outputs": [
        {
          "output_type": "stream",
          "name": "stdout",
          "text": [
            "x \t y\n",
            "-10 \t -4.0\n",
            "-9 \t -3.5\n",
            "-8 \t -3.0\n",
            "-7 \t -2.5\n",
            "-6 \t -2.0\n",
            "-5 \t -1.5\n",
            "-4 \t -1.0\n",
            "-3 \t -0.5\n",
            "-2 \t 0.0\n",
            "-1 \t 0.5\n",
            "0 \t 1.0\n",
            "1 \t 1.5\n",
            "2 \t 2.0\n",
            "3 \t 2.5\n",
            "4 \t 3.0\n",
            "5 \t 3.5\n",
            "6 \t 4.0\n",
            "7 \t 4.5\n",
            "8 \t 5.0\n",
            "9 \t 5.5\n",
            "10 \t 6.0\n"
          ]
        },
        {
          "output_type": "display_data",
          "data": {
            "text/plain": [
              "<Figure size 640x480 with 1 Axes>"
            ],
            "image/png": "[encoded data removed]"
          },
          "metadata": {}
        }
      ]
    },
    {
      "cell_type": "code",
      "source": [],
      "metadata": {
        "id": "UQotA6Vw_-bF"
      },
      "execution_count": null,
      "outputs": []
    },
    {
      "cell_type": "markdown",
      "source": [
        "\n",
        "# Graphing Extra problems"
      ],
      "metadata": {
        "id": "duVEHTZlAoHv"
      }
    },
    {
      "cell_type": "markdown",
      "source": [
        "Use an array as inputs"
      ],
      "metadata": {
        "id": "ZZoUy53yBpIj"
      }
    },
    {
      "cell_type": "code",
      "source": [
        "import matplotlib.pyplot as plt\n",
        "import numpy as np\n",
        "\n",
        "xmin = -10\n",
        "xmax = 10\n",
        "ymin = -10\n",
        "ymax = 10\n",
        "points = 2*(xmax-xmin)\n",
        "x = np.linspace(xmin, xmax, points)\n",
        "\n",
        "fig, ax = plt.subplots()\n",
        "plt.axis([xmin,xmax,ymin,ymax]) # window size\n",
        "plt.plot([xmin,xmax],[0,0],'b') # blue x axis\n",
        "plt.plot([0,0],[ymin,ymax], 'b') # blue y axis\n",
        "\n",
        "y = 2*x +1\n",
        "plt.plot(x,y, 'pink')\n",
        "\n",
        "plt.show()"
      ],
      "metadata": {
        "colab": {
          "base_uri": "https://localhost:8080/",
          "height": 435
        },
        "id": "O3YyfoVaA0w1",
        "outputId": "3d0f4f5a-5af0-481f-c711-d102d4299583"
      },
      "execution_count": null,
      "outputs": [
        {
          "output_type": "display_data",
          "data": {
            "text/plain": [
              "<Figure size 640x480 with 1 Axes>"
            ],
            "image/png": "[encoded data removed]"
          },
          "metadata": {}
        }
      ]
    },
    {
      "cell_type": "markdown",
      "source": [
        "More ways to customize your graph"
      ],
      "metadata": {
        "id": "OJy7XdT5Cart"
      }
    },
    {
      "cell_type": "code",
      "source": [
        "import matplotlib.pyplot as plt\n",
        "import numpy as np\n",
        "\n",
        "xmin = -10\n",
        "xmax = 10\n",
        "ymin = -10\n",
        "ymax = 10\n",
        "points = 2*(xmax-xmin)\n",
        "x = np.linspace(xmin, xmax, points)\n",
        "\n",
        "fig, ax = plt.subplots()\n",
        "plt.axis([xmin,xmax,ymin,ymax]) # window size\n",
        "plt.plot([xmin,xmax],[0,0],'b') # blue x axis\n",
        "plt.plot([0,0],[ymin,ymax], 'b') # blue y axis\n",
        "\n",
        "ax.set_xlabel(\"x values\")\n",
        "ax.set_ylabel(\"y values\")\n",
        "ax.set_title(\"Some Graph\")\n",
        "ax.grid(True)\n",
        "\n",
        "ax.set_xticks(np.arange(xmin, xmax, 1))\n",
        "ax.set_yticks(np.arange(ymin, ymax, 1))\n",
        "\n",
        "y = 2*x +1\n",
        "plt.plot(x,y, label='y=2x+1')\n",
        "plt.plot([4],[6], 'ro', label='point')\n",
        "plt.plot(x,3*x, label='steeper line')\n",
        "plt.legend()\n",
        "plt.show()\n"
      ],
      "metadata": {
        "colab": {
          "base_uri": "https://localhost:8080/",
          "height": 472
        },
        "id": "7FwhSOsUBhiU",
        "outputId": "71648c1f-ccf3-48cb-c3af-bfb904f1dcb7"
      },
      "execution_count": null,
      "outputs": [
        {
          "output_type": "display_data",
          "data": {
            "text/plain": [
              "<Figure size 640x480 with 1 Axes>"
            ],
            "image/png": "[encoded data removed]"
          },
          "metadata": {}
        }
      ]
    },
    {
      "cell_type": "markdown",
      "source": [
        "# Linear Functions"
      ],
      "metadata": {
        "id": "tMveyw0SDxFs"
      }
    },
    {
      "cell_type": "markdown",
      "source": [
        "Slope"
      ],
      "metadata": {
        "id": "-_9gV2ulEuIi"
      }
    },
    {
      "cell_type": "code",
      "source": [
        "x1 = 1\n",
        "y1 = 7\n",
        "x2 = 2\n",
        "y2 = 10\n",
        "\n",
        "slope = (y2 - y1) / (x2 - x1)\n",
        "\n",
        "print(\"slope = \", slope)"
      ],
      "metadata": {
        "colab": {
          "base_uri": "https://localhost:8080/"
        },
        "id": "qLVdmo6EC71u",
        "outputId": "871892bb-3c52-4ee5-8b25-529d780424ef"
      },
      "execution_count": null,
      "outputs": [
        {
          "output_type": "stream",
          "name": "stdout",
          "text": [
            "slope =  3.0\n"
          ]
        }
      ]
    },
    {
      "cell_type": "markdown",
      "source": [
        "Linear Equations"
      ],
      "metadata": {
        "id": "5RkdtYE9EwEe"
      }
    },
    {
      "cell_type": "code",
      "source": [
        "x1 = 1\n",
        "y1 = 7\n",
        "x2 = 2\n",
        "y2 = 10\n",
        "\n",
        "# The slope is \"m\"\n",
        "m = (y2 - y1) / (x2 - x1)\n",
        "\n",
        "# The y intercept is \"b\"\n",
        "b = y1 - m*x1\n",
        "\n",
        "# The full equation\n",
        "print(\"y = \", m, \"x + \", b)"
      ],
      "metadata": {
        "colab": {
          "base_uri": "https://localhost:8080/"
        },
        "id": "4mjyxKdVElhy",
        "outputId": "a5615d69-bf92-48ae-c7f3-bc3260463c00"
      },
      "execution_count": null,
      "outputs": [
        {
          "output_type": "stream",
          "name": "stdout",
          "text": [
            "y =  3.0 x +  4.0\n"
          ]
        }
      ]
    },
    {
      "cell_type": "code",
      "source": [
        "import matplotlib.pyplot as plt\n",
        "\n",
        "x1 = 2\n",
        "y1 = 3\n",
        "x2 = 6\n",
        "y2 = 8\n",
        "\n",
        "# Develop the equation y = mx + b\n",
        "m = (y2 - y1) / (x2 - x1)\n",
        "b = y1 - m*x1\n",
        "print(\"y = \", m, \"x + \", b)\n",
        "\n",
        "# For the graph\n",
        "xmin = -10\n",
        "xmax = 10\n",
        "ymin = -10\n",
        "ymax = 10\n",
        "\n",
        "# For the line on the graph\n",
        "y3 = m*xmin + b\n",
        "y4 = m*xmax + b\n",
        "\n",
        "# Basic setup for the graph\n",
        "fig, ax = plt.subplots()\n",
        "plt.axis([xmin,xmax,ymin,ymax]) # window size\n",
        "plt.plot([xmin,xmax],[0,0],'b') # blue x axis\n",
        "plt.plot([0,0],[ymin,ymax], 'b') # blue y axis\n",
        "\n",
        "# Plot the linear function as a red line\n",
        "plt.plot([xmin,xmax],[y3,y4],'r')\n",
        "\n",
        "plt.show()"
      ],
      "metadata": {
        "colab": {
          "base_uri": "https://localhost:8080/",
          "height": 452
        },
        "id": "i-DX84yoF9NZ",
        "outputId": "afbc339a-ecaa-4381-e6bf-def78214cc7b"
      },
      "execution_count": null,
      "outputs": [
        {
          "output_type": "stream",
          "name": "stdout",
          "text": [
            "y =  1.25 x +  0.5\n"
          ]
        },
        {
          "output_type": "display_data",
          "data": {
            "text/plain": [
              "<Figure size 640x480 with 1 Axes>"
            ],
            "image/png": "[encoded data removed]"
          },
          "metadata": {}
        }
      ]
    },
    {
      "cell_type": "markdown",
      "source": [
        "Notes and work"
      ],
      "metadata": {
        "id": "5aS6gYl3ulv5"
      }
    },
    {
      "cell_type": "code",
      "source": [
        "1500 = 10x + 500\n",
        "0 = 10x - 1000"
      ],
      "metadata": {
        "id": "ZpL0V0a3G5nE"
      },
      "execution_count": null,
      "outputs": []
    },
    {
      "cell_type": "markdown",
      "source": [
        "Solve an equation"
      ],
      "metadata": {
        "id": "h9wdH3LhuG2C"
      }
    },
    {
      "cell_type": "code",
      "source": [
        "import sympy\n",
        "from sympy import symbols\n",
        "from sympy.solvers import solve\n",
        "\n",
        "x = symbols('x')\n",
        "\n",
        "# Put the equation here\n",
        "eq = 10*x - 1000\n",
        "\n",
        "solution = solve(eq,x)\n",
        "print(\"x = \", solution[0])\n"
      ],
      "metadata": {
        "colab": {
          "base_uri": "https://localhost:8080/"
        },
        "id": "6-Zt0cB8HEis",
        "outputId": "ce0e56d5-2d74-4366-d0cb-de2eaad2a35a"
      },
      "execution_count": null,
      "outputs": [
        {
          "output_type": "stream",
          "name": "stdout",
          "text": [
            "x =  100\n"
          ]
        }
      ]
    },
    {
      "cell_type": "markdown",
      "source": [
        "Graph the Solution"
      ],
      "metadata": {
        "id": "sKQZ9M4DHMja"
      }
    },
    {
      "cell_type": "code",
      "source": [
        "import matplotlib.pyplot as plt\n",
        "import numpy as np\n",
        "\n",
        "x1 = 0\n",
        "y1 = 0\n",
        "x2 = 40\n",
        "y2 = 13\n",
        "\n",
        "# Develop the equation y = mx + b\n",
        "m = (y2 - y1) / (x2 - x1)\n",
        "b = y1 - m*x1\n",
        "print(\"y = \", m, \"x + \", b)\n",
        "\n",
        "# For the graph\n",
        "xmin = 0\n",
        "xmax = 100\n",
        "ymin = 0\n",
        "ymax = 50\n",
        "\n",
        "# For the line on the graph\n",
        "y3 = m*xmin + b\n",
        "y4 = m*xmax + b\n",
        "\n",
        "# Basic setup for the graph\n",
        "fig, ax = plt.subplots()\n",
        "plt.axis([xmin,xmax,ymin,ymax]) # window size\n",
        "plt.plot([xmin,xmax],[0,0],'b') # blue x axis\n",
        "plt.plot([0,0],[ymin,ymax], 'b') # blue y axis\n",
        "\n",
        "# Add details to the graph\n",
        "ax.set_xlabel(\"thousands\")\n",
        "ax.set_ylabel(\"tons\")\n",
        "ax.grid(True)\n",
        "#ax.set_xticks(np.arange(xmin, xmax, 2))\n",
        "#ax.set_yticks(np.arange(ymin, ymax, 1))\n",
        "\n",
        "\n",
        "# Plot the linear function as a red line\n",
        "plt.plot([xmin,xmax],[y3,y4],'r')\n",
        "\n",
        "plt.show()"
      ],
      "metadata": {
        "colab": {
          "base_uri": "https://localhost:8080/",
          "height": 472
        },
        "id": "62bB9E9KHFyO",
        "outputId": "1ed5b599-98cf-42da-9f43-70e5bba02fe7"
      },
      "execution_count": null,
      "outputs": [
        {
          "output_type": "stream",
          "name": "stdout",
          "text": [
            "y =  0.325 x +  0.0\n"
          ]
        },
        {
          "output_type": "display_data",
          "data": {
            "text/plain": [
              "<Figure size 640x480 with 1 Axes>"
            ],
            "image/png": "[encoded data removed]"
          },
          "metadata": {}
        }
      ]
    },
    {
      "cell_type": "markdown",
      "source": [
        "# Factoring"
      ],
      "metadata": {
        "id": "O8Jwx_jdHjhW"
      }
    },
    {
      "cell_type": "markdown",
      "source": [
        "%"
      ],
      "metadata": {
        "id": "eFg8_9qdIAS9"
      }
    },
    {
      "cell_type": "code",
      "source": [
        "print(5%3)\n",
        "\n",
        "print(31%10)"
      ],
      "metadata": {
        "colab": {
          "base_uri": "https://localhost:8080/"
        },
        "id": "Sgp7QP3kHtBj",
        "outputId": "f5f0fd25-56f4-43ad-88fa-2a33f3412e07"
      },
      "execution_count": null,
      "outputs": [
        {
          "output_type": "stream",
          "name": "stdout",
          "text": [
            "2\n",
            "1\n"
          ]
        }
      ]
    },
    {
      "cell_type": "markdown",
      "source": [
        "Use modulus in a loop to find factors"
      ],
      "metadata": {
        "id": "JbAwevRDIVMl"
      }
    },
    {
      "cell_type": "code",
      "source": [
        "number = 12\n",
        "\n",
        "# Find all factors\n",
        "for test_factor in range(1,number+1):\n",
        "    if number%test_factor==0:\n",
        "        print(test_factor)"
      ],
      "metadata": {
        "colab": {
          "base_uri": "https://localhost:8080/"
        },
        "id": "9QDne4k1IEBI",
        "outputId": "f4fa2fd5-a35a-4ff4-d439-469a4487230f"
      },
      "execution_count": null,
      "outputs": [
        {
          "output_type": "stream",
          "name": "stdout",
          "text": [
            "1\n",
            "2\n",
            "3\n",
            "4\n",
            "6\n",
            "12\n"
          ]
        }
      ]
    },
    {
      "cell_type": "markdown",
      "source": [
        "Reduce fractions to lowest terms"
      ],
      "metadata": {
        "id": "fHY1IqXdIo_0"
      }
    },
    {
      "cell_type": "code",
      "source": [
        "numerator = 12\n",
        "denominator = 24\n",
        "factor = 1\n",
        "\n",
        "# Find greatest common factor\n",
        "for test_factor in range(1,denominator+1):\n",
        "    if numerator%test_factor==0 and denominator%test_factor==0:\n",
        "        factor = test_factor\n",
        "\n",
        "# Divide out greatest common factor\n",
        "n = int(numerator/factor)\n",
        "d = int(denominator/factor)\n",
        "\n",
        "print(\"original: \", numerator, \"/\", denominator)\n",
        "print(\"reduced: \", n, \"/\", d)"
      ],
      "metadata": {
        "colab": {
          "base_uri": "https://localhost:8080/"
        },
        "id": "ADbo_02YIdfh",
        "outputId": "8323ef2e-62a2-423d-cd41-a772fdf2d729"
      },
      "execution_count": null,
      "outputs": [
        {
          "output_type": "stream",
          "name": "stdout",
          "text": [
            "original:  12 / 24\n",
            "reduced:  1 / 2\n"
          ]
        }
      ]
    },
    {
      "cell_type": "markdown",
      "source": [
        "Decimal to fraction"
      ],
      "metadata": {
        "id": "C61M84KQJGe_"
      }
    },
    {
      "cell_type": "code",
      "source": [
        "# Get the decimal number to convert\n",
        "digits = input(\"Enter a decimal number to convert: \")\n",
        "\n",
        "# Convert to fraction\n",
        "exponent = int(len(digits))-1\n",
        "n = float(digits)\n",
        "numerator = int(n * 10**exponent)\n",
        "denominator = 10**exponent\n",
        "\n",
        "# Reduce that fraction\n",
        "factor = 1\n",
        "for test_factor in range(1,denominator+1):\n",
        "    if numerator%test_factor==0 and denominator%test_factor==0:\n",
        "        factor = test_factor\n",
        "\n",
        "# Divide out greatest common factor\n",
        "num = int(numerator/factor)\n",
        "den = int(denominator/factor)\n",
        "\n",
        "# Output\n",
        "print(\"The decimal is \", n)\n",
        "print(\"The fraction is \", num, \"/\", den)"
      ],
      "metadata": {
        "colab": {
          "base_uri": "https://localhost:8080/"
        },
        "id": "_04ttVwyIwP_",
        "outputId": "2ae4a982-892a-4015-b8a4-866a0d4440ab"
      },
      "execution_count": null,
      "outputs": [
        {
          "output_type": "stream",
          "name": "stdout",
          "text": [
            "Enter a decimal number to convert: 0.005\n",
            "The decimal is  0.005\n",
            "The fraction is  1 / 200\n"
          ]
        }
      ]
    },
    {
      "cell_type": "markdown",
      "source": [
        "Factoring Squareroots"
      ],
      "metadata": {
        "id": "t9we1ayDJYLf"
      }
    },
    {
      "cell_type": "code",
      "source": [
        "import math\n",
        "\n",
        "print(math.sqrt(24))"
      ],
      "metadata": {
        "colab": {
          "base_uri": "https://localhost:8080/"
        },
        "id": "41TGGJKPJMzV",
        "outputId": "116991e4-59e9-4f4d-9f2a-652570d7d85d"
      },
      "execution_count": null,
      "outputs": [
        {
          "output_type": "stream",
          "name": "stdout",
          "text": [
            "4.898979485566356\n"
          ]
        }
      ]
    },
    {
      "cell_type": "markdown",
      "source": [
        "Using Sympy"
      ],
      "metadata": {
        "id": "fx7GIam0JnH6"
      }
    },
    {
      "cell_type": "code",
      "source": [
        "import math\n",
        "import sympy\n",
        "from sympy import symbols\n",
        "\n",
        "n = 24\n",
        "\n",
        "# Use these variables\n",
        "upper_limit = math.floor(math.sqrt(n)) + 1\n",
        "max_factor = 1\n",
        "other_factor = 1\n",
        "square_root = 1\n",
        "\n",
        "# Slightly different variable strategy\n",
        "for maybe_factor in range(1, upper_limit):\n",
        "    if n % (maybe_factor**2) == 0:\n",
        "        max_factor = maybe_factor**2\n",
        "\n",
        "# Divide out the greatest square factor\n",
        "other_factor = n/max_factor\n",
        "\n",
        "# Output variables\n",
        "square_root = int(math.sqrt(max_factor))\n",
        "other_factor = int(other_factor)\n",
        "output = square_root*sympy.sqrt(other_factor)\n",
        "\n",
        "# Sympy output without print statement - must be last line\n",
        "output"
      ],
      "metadata": {
        "colab": {
          "base_uri": "https://localhost:8080/",
          "height": 38
        },
        "id": "YsOf76rbJg6f",
        "outputId": "d6c6fc54-6f96-41d4-ece4-22bb629dc587"
      },
      "execution_count": null,
      "outputs": [
        {
          "output_type": "execute_result",
          "data": {
            "text/plain": [
              "2*sqrt(6)"
            ],
            "text/latex": "$\\displaystyle 2 \\sqrt{6}$"
          },
          "metadata": {},
          "execution_count": 34
        }
      ]
    },
    {
      "cell_type": "code",
      "source": [],
      "metadata": {
        "id": "f2dxe_jVJrU4"
      },
      "execution_count": null,
      "outputs": []
    },
    {
      "cell_type": "markdown",
      "source": [
        "# Multipurpose Calculator"
      ],
      "metadata": {
        "id": "3KRMXWMQJyTo"
      }
    },
    {
      "cell_type": "code",
      "source": [],
      "metadata": {
        "id": "FN9j5R1wKhGH"
      },
      "execution_count": null,
      "outputs": []
    },
    {
      "cell_type": "markdown",
      "source": [
        "# Graphing Systems of equation"
      ],
      "metadata": {
        "id": "o6ZA4ywPK31t"
      }
    },
    {
      "cell_type": "markdown",
      "source": [],
      "metadata": {
        "id": "3i-y5c-jLJKz"
      }
    },
    {
      "cell_type": "code",
      "source": [
        "import matplotlib.pyplot as plt\n",
        "import numpy as np\n",
        "\n",
        "xmin = -10\n",
        "xmax = 10\n",
        "ymin = -10\n",
        "ymax = 10\n",
        "\n",
        "# Define how many points to plot\n",
        "points = 10*(xmax-xmin)\n",
        "\n",
        "# Define the array of x values once\n",
        "x = np.linspace(xmin,xmax,points)\n",
        "\n",
        "fig, ax = plt.subplots()\n",
        "plt.axis([xmin,xmax,ymin,ymax]) # window size\n",
        "plt.plot([xmin,xmax],[0,0],'b') # blue x axis\n",
        "plt.plot([0,0],[ymin,ymax], 'b') # blue y axis\n",
        "\n",
        "# line 1\n",
        "y1 = 3*x\n",
        "plt.plot(x, y1)\n",
        "\n",
        "# line 2\n",
        "y2 = x**3\n",
        "plt.plot(x, y2)\n",
        "\n",
        "ax.grid(True)\n",
        "plt.show()\n"
      ],
      "metadata": {
        "colab": {
          "base_uri": "https://localhost:8080/",
          "height": 435
        },
        "id": "2e_NKyY8LEIu",
        "outputId": "b716d3a6-8b3b-478e-8338-c54d62bebaa4"
      },
      "execution_count": null,
      "outputs": [
        {
          "output_type": "display_data",
          "data": {
            "text/plain": [
              "<Figure size 640x480 with 1 Axes>"
            ],
            "image/png": "[encoded data removed]"
          },
          "metadata": {}
        }
      ]
    },
    {
      "cell_type": "code",
      "source": [],
      "metadata": {
        "id": "VJSRL1QALLWH"
      },
      "execution_count": null,
      "outputs": []
    },
    {
      "cell_type": "markdown",
      "source": [
        "# Extra Problems Graphing\n"
      ],
      "metadata": {
        "id": "A7CdQANjLq0Y"
      }
    },
    {
      "cell_type": "code",
      "source": [
        "import matplotlib.pyplot as plt\n",
        "import numpy as np\n",
        "\n",
        "xmin = -10\n",
        "xmax = 10\n",
        "ymin = -10\n",
        "ymax = 10\n",
        "points = 2*(xmax-xmin)\n",
        "x = np.linspace(xmin,xmax,points)\n",
        "\n",
        "fig, ax = plt.subplots()\n",
        "plt.axis([xmin,xmax,ymin,ymax]) # window size\n",
        "plt.plot([xmin,xmax],[0,0],'b') # blue x axis\n",
        "plt.plot([0,0],[ymin,ymax], 'b') # blue y axis\n",
        "\n",
        "# line 1\n",
        "y1 = x+6\n",
        "plt.plot(x, y1,'-')\n",
        "plt.fill_between(x, y1, ymax, facecolor='red')\n",
        "\n",
        "# line 2\n",
        "y2 = x+3\n",
        "plt.plot(x, y2,'-')\n",
        "plt.fill_between(x, y2, y1, facecolor='yellow')\n",
        "\n",
        "# line 3\n",
        "y3 = x-1\n",
        "plt.plot(x, y3)\n",
        "plt.fill_between(x, y3, y2, facecolor='green')\n",
        "\n",
        "# line 4\n",
        "y4 = x-4\n",
        "plt.plot(x, y4)\n",
        "plt.fill_between(x, y4, y3, facecolor='blue')\n",
        "\n",
        "plt.show()\n"
      ],
      "metadata": {
        "colab": {
          "base_uri": "https://localhost:8080/",
          "height": 435
        },
        "id": "43SP1Sf6Lwy8",
        "outputId": "e3d674f7-63de-46cd-d45e-43e7f1ecf834"
      },
      "execution_count": null,
      "outputs": [
        {
          "output_type": "display_data",
          "data": {
            "text/plain": [
              "<Figure size 640x480 with 1 Axes>"
            ],
            "image/png": "[encoded data removed]"
          },
          "metadata": {}
        }
      ]
    },
    {
      "cell_type": "code",
      "source": [
        "%matplotlib inline\n",
        "from ipywidgets import interactive\n",
        "import matplotlib.pyplot as plt\n",
        "import numpy as np\n",
        "\n",
        "# Define the graphing function\n",
        "def f(m, b, zoom):\n",
        "    xmin = -zoom\n",
        "    xmax = zoom\n",
        "    ymin = -zoom\n",
        "    ymax = zoom\n",
        "    points = 10*xmax-xmin\n",
        "    x = np.linspace(xmin, xmax, points)\n",
        "\n",
        "    plt.axis([xmin,xmax,ymin,ymax]) # window size\n",
        "    plt.plot([xmin,xmax],[0,0],'black') # black x axis\n",
        "    plt.plot([0,0],[ymin,ymax], 'black') # black y axis\n",
        "\n",
        "    # Line 1\n",
        "    y1 = 3*x**2 - 4\n",
        "\n",
        "    # Line 2\n",
        "    plt.plot(x, y1)\n",
        "    plt.show()\n",
        "    # plt.fill_between(x, y3, y2, facecolor='blue')\n",
        "\n",
        "# Set up the sliders\n",
        "interactive_plot = interactive(f, m=(-9, 9), b=(-9, 9), zoom=(1,100))\n",
        "interactive_plot"
      ],
      "metadata": {
        "colab": {
          "base_uri": "https://localhost:8080/",
          "height": 526,
          "referenced_widgets": [
            "00a14c944f4b46e9b6033aa430b2e0f4",
            "6fd2f3bd58dd4b70a6592fdb655d73a1",
            "2a947bd340424c379104e5e7148ae8fd",
            "31cdcdf00ae648a9a43759fb0297dd51",
            "1fb88374bbb8497dbeed92135d19dbfe",
            "824c38d9274b4cf99140d62a9c0f7101",
            "779d70acd3eb42588d018b8ebb3e0fbf",
            "6f9a45a5e92a47a6bd4bd114346f243b",
            "4d8e5415b2f142aba6231fae6906c391",
            "5e0ed4eaf6d94616accb5f1d1ab7ac43",
            "853720e3737f4e93a493905601d37ed6",
            "bca2e518c19b47db81aadec73fd35483",
            "231750705aac4943ad06240efc21ceda"
          ]
        },
        "id": "bJhNbDhvLzj-",
        "outputId": "c16ca84f-ca14-48d0-9ce3-fd22c3a66e50"
      },
      "execution_count": null,
      "outputs": [
        {
          "output_type": "display_data",
          "data": {
            "text/plain": [
              "interactive(children=(IntSlider(value=0, description='m', max=9, min=-9), IntSlider(value=0, description='b', …"
            ],
            "application/vnd.jupyter.widget-view+json": {
              "version_major": 2,
              "version_minor": 0,
              "model_id": "00a14c944f4b46e9b6033aa430b2e0f4"
            }
          },
          "metadata": {}
        }
      ]
    },
    {
      "cell_type": "markdown",
      "source": [
        "Graphing weather data"
      ],
      "metadata": {
        "id": "QskYBCxHMPM4"
      }
    },
    {
      "cell_type": "code",
      "source": [
        "!pip install meteostat"
      ],
      "metadata": {
        "colab": {
          "base_uri": "https://localhost:8080/"
        },
        "id": "Hrpo5N_fMCby",
        "outputId": "adc9dbb3-d027-4d67-f096-3e975f47aaff"
      },
      "execution_count": null,
      "outputs": [
        {
          "output_type": "stream",
          "name": "stdout",
          "text": [
            "Collecting meteostat\n",
            "  Downloading meteostat-1.6.7-py3-none-any.whl (31 kB)\n",
            "Requirement already satisfied: pandas>=1.1 in /usr/local/lib/python3.10/dist-packages (from meteostat) (2.0.3)\n",
            "Requirement already satisfied: pytz in /usr/local/lib/python3.10/dist-packages (from meteostat) (2023.4)\n",
            "Requirement already satisfied: numpy in /usr/local/lib/python3.10/dist-packages (from meteostat) (1.25.2)\n",
            "Requirement already satisfied: python-dateutil>=2.8.2 in /usr/local/lib/python3.10/dist-packages (from pandas>=1.1->meteostat) (2.8.2)\n",
            "Requirement already satisfied: tzdata>=2022.1 in /usr/local/lib/python3.10/dist-packages (from pandas>=1.1->meteostat) (2024.1)\n",
            "Requirement already satisfied: six>=1.5 in /usr/local/lib/python3.10/dist-packages (from python-dateutil>=2.8.2->pandas>=1.1->meteostat) (1.16.0)\n",
            "Installing collected packages: meteostat\n",
            "Successfully installed meteostat-1.6.7\n"
          ]
        }
      ]
    },
    {
      "cell_type": "code",
      "source": [],
      "metadata": {
        "id": "4k0tuVr7MT8Q"
      },
      "execution_count": null,
      "outputs": []
    },
    {
      "cell_type": "code",
      "execution_count": null,
      "metadata": {
        "id": "Q9vR8jWPC48h",
        "colab": {
          "base_uri": "https://localhost:8080/",
          "height": 291
        },
        "outputId": "8212f53e-a9be-4b43-d708-8b274656fdda"
      },
      "outputs": [
        {
          "output_type": "display_data",
          "data": {
            "text/plain": [
              "<Figure size 432x288 with 1 Axes>"
            ],
            "image/png": "[encoded data removed]"
          },
          "metadata": {
            "needs_background": "light"
          }
        }
      ],
      "source": [
        "# Import Meteostat library and dependencies\n",
        "from datetime import datetime\n",
        "import matplotlib.pyplot as plt\n",
        "from meteostat import Point, Daily\n",
        "\n",
        "# Documentation\n",
        "# https://dev.meteostat.net/python/daily.html#data-structure\n",
        "\n",
        "# Set time period\n",
        "start = datetime(2022, 1, 1)\n",
        "end = datetime(2022, 7, 31)\n",
        "\n",
        "# Create Point for Vancouver,BC or Philadelphia, PA\n",
        "#vancouver = Point(49.2497, -123.1193, 70)\n",
        "philly = Point(39.97,-75.13,25)\n",
        "\n",
        "# Get daily data for 2018\n",
        "data = Daily(philly, start, end)\n",
        "data = data.fetch()\n",
        "\n",
        "# Plot line chart including average, minimum and maximum temperature\n",
        "data.plot(y=['tavg', 'prcp','snow'])\n",
        "plt.show()\n"
      ]
    },
    {
      "cell_type": "markdown",
      "source": [
        "# Solving Systems of Equation"
      ],
      "metadata": {
        "id": "jlfiKLIUMuFZ"
      }
    },
    {
      "cell_type": "code",
      "source": [
        "from sympy import *\n",
        "\n",
        "x,y = symbols('x y')\n",
        "\n",
        "# Equations set equal to zero\n",
        "first = 2*x + y - 1\n",
        "second = x - 2*y + 7\n",
        "\n",
        "# The solution\n",
        "print(linsolve([first, second], (x, y)))"
      ],
      "metadata": {
        "colab": {
          "base_uri": "https://localhost:8080/"
        },
        "id": "Pcy7lrE1M68K",
        "outputId": "6b13901c-f26f-4a43-cf53-45eccaa2c3c5"
      },
      "execution_count": null,
      "outputs": [
        {
          "output_type": "stream",
          "name": "stdout",
          "text": [
            "{(-1, 3)}\n"
          ]
        }
      ]
    },
    {
      "cell_type": "code",
      "source": [
        "from sympy import *\n",
        "\n",
        "x,y = symbols('x y')\n",
        "\n",
        "first = 2*x + y - 1\n",
        "second = x - 2*y + 7\n",
        "\n",
        "\n",
        "# parse finite set answer as coordinate pair\n",
        "solution = linsolve([first, second], (x, y))\n",
        "x_solution = solution.args[0][0]\n",
        "y_solution = solution.args[0][1]\n",
        "\n",
        "# Print a coordinate pair\n",
        "print(\"(\", x_solution, \",\", y_solution, \")\")"
      ],
      "metadata": {
        "colab": {
          "base_uri": "https://localhost:8080/"
        },
        "id": "Yesm9KC1NDUJ",
        "outputId": "03c94097-994d-4d66-99a2-4c8edaff8a19"
      },
      "execution_count": null,
      "outputs": [
        {
          "output_type": "stream",
          "name": "stdout",
          "text": [
            "( -1 , 3 )\n"
          ]
        }
      ]
    },
    {
      "cell_type": "code",
      "source": [],
      "metadata": {
        "colab": {
          "base_uri": "https://localhost:8080/"
        },
        "id": "VCJPF-KGNISa",
        "outputId": "ca0b94e4-2475-4cb4-cd52-9cd8ecb9b0d9"
      },
      "execution_count": null,
      "outputs": [
        {
          "output_type": "stream",
          "name": "stdout",
          "text": [
            "( -1 , 3 )\n"
          ]
        }
      ]
    },
    {
      "cell_type": "code",
      "source": [
        "from sympy import *\n",
        "from sympy.plotting import plot\n",
        "from sympy import sqrt\n",
        "\n",
        "var('x y')\n",
        "\n",
        "# First equation set equal to zero, ready to solve\n",
        "first = -x**2 - y + 10\n",
        "#first = sqrt(x) - y\n",
        "\n",
        "#Second equation set equal to zero, ready to solve\n",
        "second = 2*x**2 - 2*y - 4\n",
        "#second = -x + 5 - y\n",
        "\n",
        "# Solve - can be linear or nonlinear equations\n",
        "solution = nonlinsolve([first, second], (x, y))\n",
        "for a in range(len(solution.args)):\n",
        "    x_solution = solution.args[a][0]\n",
        "    y_solution = solution.args[a][1]\n",
        "    print(\"Solution = (\", x_solution, \",\", y_solution, \")\")\n",
        "\n",
        "# Sympy syntax for equation equal to zero, ready to factor\n",
        "y_first = Eq(first,0)\n",
        "\n",
        "# Sympy solve for y\n",
        "y1 = solve(y_first,y)\n",
        "\n",
        "# Same two steps for second equation\n",
        "y_second = Eq(second,0)\n",
        "y2 = solve(y_second,y)\n",
        "\n",
        "# Show factored results\n",
        "print(\"y = \", y1[0])\n",
        "print(\"y = \", y2[0])\n",
        "\n",
        "# Plot solution\n",
        "x = symbols('x')\n",
        "xmin = -10\n",
        "xmax = 10\n",
        "plot(y1[0], y2[0], (x,xmin,xmax))\n",
        "\n"
      ],
      "metadata": {
        "id": "OWPkHa13NY_c"
      },
      "execution_count": null,
      "outputs": []
    },
    {
      "cell_type": "markdown",
      "source": [
        "# Extra Prolems Solving"
      ],
      "metadata": {
        "id": "Yx_W_5Zvtk4I"
      }
    },
    {
      "cell_type": "markdown",
      "source": [
        "# Word Problems"
      ],
      "metadata": {
        "id": "naezQVLLu23a"
      }
    },
    {
      "cell_type": "code",
      "source": [],
      "metadata": {
        "id": "CVo4ZngLNfB5"
      },
      "execution_count": null,
      "outputs": []
    }
  ]
}